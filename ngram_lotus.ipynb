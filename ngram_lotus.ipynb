{
 "cells": [
  {
   "cell_type": "markdown",
   "metadata": {},
   "source": [
    "# Generalized {n,3}-gram approximate logarithmic spirals"
   ]
  },
  {
   "cell_type": "markdown",
   "metadata": {},
   "source": [
    "## Set up plotting, math, and polar-to-cartesian utility functions"
   ]
  },
  {
   "cell_type": "code",
   "execution_count": 18,
   "metadata": {
    "collapsed": false,
    "scrolled": true
   },
   "outputs": [],
   "source": [
    "% matplotlib notebook\n",
    "import matplotlib\n",
    "% config InlineBackend.figure_format = 'pdf'\n",
    "% matplotlib inline\n",
    "# matplotlib.use('SVG')\n",
    "import matplotlib.pyplot as plt\n",
    "import numpy as np\n",
    "from math import *"
   ]
  },
  {
   "cell_type": "code",
   "execution_count": 19,
   "metadata": {
    "collapsed": true
   },
   "outputs": [],
   "source": [
    "vcos = np.vectorize(cos)\n",
    "vsin = np.vectorize(sin)"
   ]
  },
  {
   "cell_type": "code",
   "execution_count": 20,
   "metadata": {
    "collapsed": true
   },
   "outputs": [],
   "source": [
    "def xyfromr(theta,r):\n",
    "    return vcos(theta) * r, vsin(theta) * r"
   ]
  },
  {
   "cell_type": "code",
   "execution_count": 21,
   "metadata": {
    "collapsed": true
   },
   "outputs": [],
   "source": [
    "def thrfromxy(x, y):\n",
    "    \"\"\"x = array of x coordinates, y = array of y coordinates)\n",
    "returns theta, r arrays\"\"\"\n",
    "    r = np.array([sqrt(xx * xx + yy * yy) for xx, yy in zip(x, y)])\n",
    "    th = np.array([atan2(yy, xx) for xx, yy in zip(x, y)])\n",
    "    return th, r"
   ]
  },
  {
   "cell_type": "code",
   "execution_count": 22,
   "metadata": {
    "collapsed": true
   },
   "outputs": [],
   "source": [
    "@np.vectorize\n",
    "def rfunc(rbase, theta_denom, angle):\n",
    "    return rbase ** (min(abs(angle), twopi - angle) / theta_denom)"
   ]
  },
  {
   "cell_type": "code",
   "execution_count": 23,
   "metadata": {
    "collapsed": true
   },
   "outputs": [],
   "source": [
    "def rotate(x, y, c, s):\n",
    "    return x * c - y * s, y * c + x * s"
   ]
  },
  {
   "cell_type": "code",
   "execution_count": 24,
   "metadata": {
    "collapsed": true
   },
   "outputs": [],
   "source": [
    "# Rotate theta, r coordinates by angle rot around (r,theta) point p,\n",
    "# then scale the new radius\n",
    "def mytwist(theta, r, rot, scale, p):\n",
    "    x, y = xyfromr(theta,r)\n",
    "    px, py = xyfromr(*p)\n",
    "    xx, yy = rotate(x-px,y-py,cos(rot),sin(rot))\n",
    "    xx += px\n",
    "    yy += py\n",
    "    th, rr = thrfromxy(xx,yy)\n",
    "    rr *= scale\n",
    "    return (th, rr)"
   ]
  },
  {
   "cell_type": "code",
   "execution_count": 25,
   "metadata": {
    "collapsed": true
   },
   "outputs": [],
   "source": [
    "def xydist(xy1, xy2):\n",
    "    x1, y1 = xy1\n",
    "    x2, y2 = xy2\n",
    "    return sqrt((x1-x2)**2 + (y1-y2)**2)"
   ]
  },
  {
   "cell_type": "code",
   "execution_count": 26,
   "metadata": {
    "collapsed": true
   },
   "outputs": [],
   "source": [
    "def rdist(r1, th1, r2, th2):\n",
    "    return xydist(xyfromr(r1,th1), xyfromr(r2,th2))"
   ]
  },
  {
   "cell_type": "code",
   "execution_count": 27,
   "metadata": {
    "collapsed": true
   },
   "outputs": [],
   "source": [
    "def stretch(theta,r,alpha):\n",
    "    xx, yy = xyfromr(theta,r)\n",
    "    return(thrfromxy(xx*alpha,yy))"
   ]
  },
  {
   "cell_type": "code",
   "execution_count": 45,
   "metadata": {
    "collapsed": false
   },
   "outputs": [],
   "source": [
    "def ngramlotus(n=10,fclr='gold',bclr='teal',fw=2,bw=1):\n",
    "    # n = number of sides in polygon\n",
    "    plt.ion()\n",
    "\n",
    "    polyangle = 2 * pi / n\n",
    "    halfangle = pi / n\n",
    "    degangle = 360 // n\n",
    "    polyside = 2 * sin( halfangle )\n",
    "    anglerange = int(degangle + 1)\n",
    "\n",
    "    # radius to vertex of polygon enclosed in {n/3}\n",
    "    rscaleinv = 1 - polyside**2\n",
    "    rscale = 1 / rscaleinv\n",
    "    nn = n // 2\n",
    "    twopi = 2. * pi\n",
    "\n",
    "    theta = np.array([pi * a / 180. for a in range(anglerange)])\n",
    "    r     = np.array([1.0 for th in theta])\n",
    "\n",
    "    plt.clf()\n",
    "\n",
    "    # Polar plot:\n",
    "    sp = plt.subplot(1, 1, 1, projection='polar')\n",
    "\n",
    "    # Turn labels off:\n",
    "    sp.grid(False)\n",
    "    sp.set_xticklabels([])\n",
    "    sp.set_yticklabels([])\n",
    "\n",
    "    tc = np.array([pi * a / 180. for a in range(361)])\n",
    "    rc = np.array([1.0 for t in tc])\n",
    "\n",
    "    plt.plot(tc,rc,color=bclr,linewidth=bw)\n",
    "\n",
    "    for j in range(nn):\n",
    "\n",
    "        tt, rr = mytwist(theta,r,polyangle,1,(theta[0],r[0]))\n",
    "        \n",
    "        jangle = 2*polyangle*j + polyangle # polyangle offset\n",
    "\n",
    "        tt += jangle\n",
    "\n",
    "        for i in range(nn):\n",
    "            if (i < (nn-1)):\n",
    "                plt.plot(tt,rr,color=fclr,linewidth=fw) # move above if\n",
    "                tt += polyangle\n",
    "                rr /= rscale\n",
    "        \n",
    "        tt = -tt\n",
    "\n",
    "        for i in range(nn):\n",
    "            if (i > 0):                                  # remove if\n",
    "                plt.plot(tt,rr,color=fclr,linewidth=fw)\n",
    "            if (i < (nn-1)):\n",
    "                tt += polyangle\n",
    "                rr *= rscale            \n",
    "\n",
    "    for j in range(nn):\n",
    "\n",
    "        tt, rr = mytwist(theta,r,polyangle,1,(theta[0],r[0]))\n",
    "        \n",
    "        jangle = 2*polyangle*j + polyangle\n",
    "\n",
    "        tt += jangle\n",
    "\n",
    "        for i in range(nn):\n",
    "            if ( i < (nn-3)):\n",
    "                plt.plot(tt,rr,color=bclr,linewidth=bw)\n",
    "            elif ( i < (nn-2) ):\n",
    "                plt.plot(tt,rr,color=fclr,linewidth=bw) # fw\n",
    "                \n",
    "            if (i < (nn-1)):\n",
    "                tt += polyangle\n",
    "                rr /= rscale\n",
    "        \n",
    "        tt = -tt\n",
    "\n",
    "        for i in range(nn):\n",
    "            if (i > 1 and i < 3 ):\n",
    "                plt.plot(tt,rr,color=fclr,linewidth=bw) # fw\n",
    "            elif ( i >= 3):\n",
    "                plt.plot(tt,rr,color=bclr,linewidth=bw)\n",
    "                    \n",
    "            if (i < (nn-1)):\n",
    "                tt += polyangle\n",
    "                rr *= rscale            \n",
    "                  \n",
    "    # Adjust boundaries on figure\n",
    "    plt.subplots_adjust(left=0.01, right=0.99, bottom=0.01, top=0.99)\n",
    "    plt.savefig(\"n{}gramlotus.pdf\".format(n), format=\"pdf\")"
   ]
  },
  {
   "cell_type": "code",
   "execution_count": 46,
   "metadata": {
    "collapsed": false,
    "scrolled": false
   },
     "output_type": "display_data"
    }
   ],
   "source": [
    "ngramlotus(24,fclr='navy',bclr='navy',fw=2, bw=0)"
   ]
  },
  {
   "cell_type": "code",
   "execution_count": null,
   "metadata": {
    "collapsed": true
   },
   "outputs": [],
   "source": []
  }
 ],
 "metadata": {
  "celltoolbar": "Raw Cell Format",
  "kernelspec": {
   "display_name": "Python 3",
   "language": "python",
   "name": "python3"
  },
  "language_info": {
   "codemirror_mode": {
    "name": "ipython",
    "version": 3
   },
   "file_extension": ".py",
   "mimetype": "text/x-python",
   "name": "python",
   "nbconvert_exporter": "python",
   "pygments_lexer": "ipython3",
   "version": "3.6.0"
  }
 },
 "nbformat": 4,
 "nbformat_minor": 2
}
